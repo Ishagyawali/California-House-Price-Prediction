{
 "cells": [
  {
   "cell_type": "markdown",
   "metadata": {},
   "source": [
    "## Support Vector Regression:\n",
    "\n",
    "In this section, we do a statistical modelling of the data to predict the California House Price using Support Vector Machine(SVM) regression."
   ]
  },
  {
   "cell_type": "code",
   "execution_count": 13,
   "metadata": {},
   "outputs": [],
   "source": [
    "import warnings\n",
    "warnings.filterwarnings(\"ignore\")\n",
    "import time\n",
    "import random\n",
    "from math import *\n",
    "import operator\n",
    "import pandas as pd\n",
    "import numpy as np\n",
    "from scipy import stats\n",
    "\n",
    "# import plotting libraries\n",
    "import matplotlib\n",
    "import matplotlib.pyplot as plt\n",
    "from pandas.plotting import scatter_matrix\n",
    "%matplotlib inline \n",
    "\n",
    "import seaborn as sns\n",
    "sns.set(style=\"white\", color_codes=True)\n",
    "sns.set(font_scale=1.5)\n",
    "\n",
    "# import the ML algorithm\n",
    "from sklearn.metrics import explained_variance_score\n",
    "from statsmodels.tools.eval_measures import rmse\n",
    "from sklearn.svm import SVR \n",
    "from sklearn import svm\n",
    "\n",
    "import statsmodels.api as sm\n",
    "import statsmodels\n",
    "import statsmodels.formula.api as smf\n",
    "import os\n",
    "import statistics\n",
    "\n",
    "# pre-processing:\n",
    "from sklearn import preprocessing\n",
    "from sklearn.preprocessing import StandardScaler\n",
    "from sklearn.preprocessing import Imputer\n",
    "\n",
    "# import libraries for model validation\n",
    "from sklearn.model_selection import cross_val_score\n",
    "from sklearn.model_selection import train_test_split\n",
    "\n",
    "# import libraries for metrics and reporting\n",
    "from sklearn import metrics\n",
    "from sklearn.model_selection import learning_curve\n",
    "import math\n",
    "from scipy.stats import pearsonr\n",
    "from sklearn.model_selection import GridSearchCV\n",
    "from statsmodels.stats.outliers_influence import variance_inflation_factor\n",
    "from sklearn.metrics import adjusted_rand_score\n",
    "from sklearn.metrics import r2_score\n",
    "from sklearn.metrics import mean_squared_error\n",
    "from pandas.plotting import scatter_matrix"
   ]
  },
  {
   "cell_type": "code",
   "execution_count": 2,
   "metadata": {},
   "outputs": [],
   "source": [
    "data_prepared=pd.read_csv('data_prepared.csv',index_col=0)"
   ]
  },
  {
   "cell_type": "code",
   "execution_count": 3,
   "metadata": {},
   "outputs": [
    {
     "data": {
      "text/html": [
       "<div>\n",
       "<style scoped>\n",
       "    .dataframe tbody tr th:only-of-type {\n",
       "        vertical-align: middle;\n",
       "    }\n",
       "\n",
       "    .dataframe tbody tr th {\n",
       "        vertical-align: top;\n",
       "    }\n",
       "\n",
       "    .dataframe thead th {\n",
       "        text-align: right;\n",
       "    }\n",
       "</style>\n",
       "<table border=\"1\" class=\"dataframe\">\n",
       "  <thead>\n",
       "    <tr style=\"text-align: right;\">\n",
       "      <th></th>\n",
       "      <th>longitude</th>\n",
       "      <th>housing_median_age</th>\n",
       "      <th>population</th>\n",
       "      <th>median_income</th>\n",
       "      <th>median_house_price</th>\n",
       "      <th>ocean_prox_INLAND</th>\n",
       "      <th>ocean_prox_ISLAND</th>\n",
       "      <th>ocean_prox_NEAR OCEAN</th>\n",
       "      <th>rooms_per_household</th>\n",
       "      <th>bedrooms_per_room</th>\n",
       "      <th>population_per_household</th>\n",
       "    </tr>\n",
       "  </thead>\n",
       "  <tbody>\n",
       "    <tr>\n",
       "      <td>701</td>\n",
       "      <td>-1.198061</td>\n",
       "      <td>0.267020</td>\n",
       "      <td>-0.830491</td>\n",
       "      <td>1.151046</td>\n",
       "      <td>1.942445</td>\n",
       "      <td>0.838250</td>\n",
       "      <td>-1.012356</td>\n",
       "      <td>-0.681889</td>\n",
       "      <td>-0.015566</td>\n",
       "      <td>-0.353264</td>\n",
       "      <td>-0.384466</td>\n",
       "    </tr>\n",
       "    <tr>\n",
       "      <td>830</td>\n",
       "      <td>-1.208044</td>\n",
       "      <td>-1.560516</td>\n",
       "      <td>0.808456</td>\n",
       "      <td>0.408011</td>\n",
       "      <td>0.087910</td>\n",
       "      <td>-0.086579</td>\n",
       "      <td>-0.309506</td>\n",
       "      <td>-0.681889</td>\n",
       "      <td>-0.015566</td>\n",
       "      <td>-0.353264</td>\n",
       "      <td>-0.384466</td>\n",
       "    </tr>\n",
       "    <tr>\n",
       "      <td>859</td>\n",
       "      <td>-1.198061</td>\n",
       "      <td>-0.607019</td>\n",
       "      <td>0.659220</td>\n",
       "      <td>0.391588</td>\n",
       "      <td>0.353091</td>\n",
       "      <td>0.029978</td>\n",
       "      <td>-0.533384</td>\n",
       "      <td>-0.681889</td>\n",
       "      <td>-0.015566</td>\n",
       "      <td>-0.353264</td>\n",
       "      <td>-0.384466</td>\n",
       "    </tr>\n",
       "    <tr>\n",
       "      <td>860</td>\n",
       "      <td>-1.193070</td>\n",
       "      <td>-1.083767</td>\n",
       "      <td>0.310414</td>\n",
       "      <td>0.973025</td>\n",
       "      <td>0.664202</td>\n",
       "      <td>0.390584</td>\n",
       "      <td>-0.752754</td>\n",
       "      <td>-0.681889</td>\n",
       "      <td>-0.015566</td>\n",
       "      <td>-0.353264</td>\n",
       "      <td>-0.384466</td>\n",
       "    </tr>\n",
       "    <tr>\n",
       "      <td>861</td>\n",
       "      <td>-1.203053</td>\n",
       "      <td>-0.686477</td>\n",
       "      <td>0.577096</td>\n",
       "      <td>-0.098681</td>\n",
       "      <td>0.087043</td>\n",
       "      <td>-0.483893</td>\n",
       "      <td>0.610403</td>\n",
       "      <td>-0.681889</td>\n",
       "      <td>-0.015566</td>\n",
       "      <td>-0.353264</td>\n",
       "      <td>-0.384466</td>\n",
       "    </tr>\n",
       "  </tbody>\n",
       "</table>\n",
       "</div>"
      ],
      "text/plain": [
       "     longitude  housing_median_age  population  median_income  \\\n",
       "701  -1.198061            0.267020   -0.830491       1.151046   \n",
       "830  -1.208044           -1.560516    0.808456       0.408011   \n",
       "859  -1.198061           -0.607019    0.659220       0.391588   \n",
       "860  -1.193070           -1.083767    0.310414       0.973025   \n",
       "861  -1.203053           -0.686477    0.577096      -0.098681   \n",
       "\n",
       "     median_house_price  ocean_prox_INLAND  ocean_prox_ISLAND  \\\n",
       "701            1.942445           0.838250          -1.012356   \n",
       "830            0.087910          -0.086579          -0.309506   \n",
       "859            0.353091           0.029978          -0.533384   \n",
       "860            0.664202           0.390584          -0.752754   \n",
       "861            0.087043          -0.483893           0.610403   \n",
       "\n",
       "     ocean_prox_NEAR OCEAN  rooms_per_household  bedrooms_per_room  \\\n",
       "701              -0.681889            -0.015566          -0.353264   \n",
       "830              -0.681889            -0.015566          -0.353264   \n",
       "859              -0.681889            -0.015566          -0.353264   \n",
       "860              -0.681889            -0.015566          -0.353264   \n",
       "861              -0.681889            -0.015566          -0.353264   \n",
       "\n",
       "     population_per_household  \n",
       "701                 -0.384466  \n",
       "830                 -0.384466  \n",
       "859                 -0.384466  \n",
       "860                 -0.384466  \n",
       "861                 -0.384466  "
      ]
     },
     "execution_count": 3,
     "metadata": {},
     "output_type": "execute_result"
    }
   ],
   "source": [
    "data_prepared.head()"
   ]
  },
  {
   "cell_type": "code",
   "execution_count": 4,
   "metadata": {},
   "outputs": [],
   "source": [
    "# extract further remaining data into numpy array:\n",
    "X_out=data_prepared.drop(['median_house_price'],axis=1)\n",
    "y_actual=data_prepared['median_house_price']"
   ]
  },
  {
   "cell_type": "code",
   "execution_count": 5,
   "metadata": {},
   "outputs": [],
   "source": [
    "# Splitting data:\n",
    "X_train,X_test,y_train,y_test=train_test_split(X_out,y_actual,test_size=0.20,random_state=101)"
   ]
  },
  {
   "cell_type": "code",
   "execution_count": 6,
   "metadata": {},
   "outputs": [
    {
     "name": "stdout",
     "output_type": "stream",
     "text": [
      "X_train shape (10588, 10) and size 105880\n",
      "X_test shape (2648, 10) and size 26480\n",
      "y_train shape (10588,) and size 10588\n",
      "y_test shape (2648,) and size 2648\n"
     ]
    }
   ],
   "source": [
    "print(\"X_train shape {} and size {}\".format(X_train.shape,X_train.size))\n",
    "print(\"X_test shape {} and size {}\".format(X_test.shape,X_test.size))\n",
    "print(\"y_train shape {} and size {}\".format(y_train.shape,y_train.size))\n",
    "print(\"y_test shape {} and size {}\".format(y_test.shape,y_test.size))"
   ]
  },
  {
   "cell_type": "markdown",
   "metadata": {},
   "source": [
    "### Support Vector Machine:"
   ]
  },
  {
   "cell_type": "code",
   "execution_count": 8,
   "metadata": {},
   "outputs": [
    {
     "name": "stdout",
     "output_type": "stream",
     "text": [
      "Fitting 3 folds for each of 18 candidates, totalling 54 fits\n"
     ]
    },
    {
     "name": "stderr",
     "output_type": "stream",
     "text": [
      "[Parallel(n_jobs=-1)]: Using backend LokyBackend with 4 concurrent workers.\n",
      "[Parallel(n_jobs=-1)]: Done  42 tasks      | elapsed:  2.1min\n",
      "[Parallel(n_jobs=-1)]: Done  54 out of  54 | elapsed:  2.4min finished\n"
     ]
    },
    {
     "name": "stdout",
     "output_type": "stream",
     "text": [
      "0.6301255618110561\n",
      "{'C': 1000, 'epsilon': 0.1, 'gamma': 0.005}\n"
     ]
    }
   ],
   "source": [
    "svmr = svm.SVR(kernel=\"rbf\")\n",
    "C = [1000, 10, 1]\n",
    "gamma = [0.005, 0.003, 0.001]\n",
    "epsilon = [0.1, 0.01]\n",
    "parameters = {\"C\":C, \"gamma\":gamma, \"epsilon\":epsilon}\n",
    "\n",
    "grid_svmr = GridSearchCV(svmr, parameters, scoring=\"r2\",verbose=1,n_jobs=-1)\n",
    "grid_svmr.fit(X_train, y_train)\n",
    "print(grid_svmr.best_score_)\n",
    "print(grid_svmr.best_params_)\n"
   ]
  },
  {
   "cell_type": "code",
   "execution_count": 9,
   "metadata": {},
   "outputs": [],
   "source": [
    "# Set best parameters given by GridsearchCV:\n",
    "SVMR_tuned=svmr = svm.SVR(kernel=\"rbf\",C=1,gamma=0.005,epsilon=0.1)"
   ]
  },
  {
   "cell_type": "code",
   "execution_count": 10,
   "metadata": {},
   "outputs": [
    {
     "data": {
      "text/plain": [
       "SVR(C=1, cache_size=200, coef0=0.0, degree=3, epsilon=0.1, gamma=0.005,\n",
       "    kernel='rbf', max_iter=-1, shrinking=True, tol=0.001, verbose=False)"
      ]
     },
     "execution_count": 10,
     "metadata": {},
     "output_type": "execute_result"
    }
   ],
   "source": [
    "SVMR_tuned.fit(X_train,y_train)"
   ]
  },
  {
   "cell_type": "code",
   "execution_count": 11,
   "metadata": {},
   "outputs": [],
   "source": [
    "y_predsvmr_tuned=SVMR_tuned.predict(X_test)"
   ]
  },
  {
   "cell_type": "code",
   "execution_count": 14,
   "metadata": {},
   "outputs": [
    {
     "name": "stdout",
     "output_type": "stream",
     "text": [
      "Mean squared error: 0.24\n",
      "Mean absolute Error: 0.33\n",
      "Root Mean square Error: 0.49\n",
      "Test Variance score: 0.61\n",
      "Model Score for Training data: 0.596217007033904\n",
      "Model Score for Testing data: 0.6127936268747207\n",
      "R2(Cross_Val_Score):  [0.77078079 0.76327917 0.76511067 0.77044916 0.78123326]\n",
      "R2(mean of fold of cross_val_score):  0.770170608107801\n"
     ]
    }
   ],
   "source": [
    "print(\"Mean squared error: %.2f\"% mean_squared_error(y_test, y_predsvmr_tuned))\n",
    "\n",
    "print(\"Mean absolute Error: %.2f\"% metrics.mean_absolute_error(y_test, y_predsvmr_tuned))\n",
    "\n",
    "print(\"Root Mean square Error: %.2f\"% np.sqrt(mean_squared_error(y_test, y_predsvmr_tuned)))\n",
    "\n",
    "print('Test Variance score: %.2f' % r2_score(y_test, y_predsvmr_tuned))\n",
    "print(\"Model Score for Training data: {}\".format(SVMR_tuned.score(X_train,y_train)))\n",
    "print(\"Model Score for Testing data: {}\".format(r2_score(y_test,y_predsvmr_tuned)))\n",
    "print('R2(Cross_Val_Score): ',np.sqrt(cross_val_score(SVMR_tuned,X_train,y_train,n_jobs=-1,cv=5,scoring='r2')))\n",
    "print('R2(mean of fold of cross_val_score): ',np.sqrt(cross_val_score(SVMR_tuned,X_train,y_train,n_jobs=-1,cv=5,scoring='r2')).mean())"
   ]
  },
  {
   "cell_type": "code",
   "execution_count": 16,
   "metadata": {},
   "outputs": [
    {
     "data": {
      "text/plain": [
       "<matplotlib.legend.Legend at 0x1662dd0bcf8>"
      ]
     },
     "execution_count": 16,
     "metadata": {},
     "output_type": "execute_result"
    },
    {
     "data": {
      "image/png": "[encoded data removed]",
      "text/plain": [
       "<Figure size 864x576 with 1 Axes>"
      ]
     },
     "metadata": {},
     "output_type": "display_data"
    }
   ],
   "source": [
    "lc=learning_curve(SVMR_tuned,X_train,y_train,cv=5,n_jobs=-1)\n",
    "size=lc[0]\n",
    "train_score=[lc[1][i].mean() for i in range (0,5)]\n",
    "test_score=[lc[2][i].mean() for i in range (0,5)]\n",
    "fig=plt.figure(figsize=(12,8))\n",
    "plt.plot(size,train_score,label='Train')\n",
    "plt.plot(size,test_score,label=\"Test\")\n",
    "plt.legend()"
   ]
  },
  {
   "cell_type": "markdown",
   "metadata": {},
   "source": [
    "We do not see any overfitting in this model but the performance of this model can be improved furthermore."
   ]
  },
  {
   "cell_type": "code",
   "execution_count": null,
   "metadata": {},
   "outputs": [],
   "source": []
  }
 ],
 "metadata": {
  "kernelspec": {
   "display_name": "Python 3",
   "language": "python",
   "name": "python3"
  },
  "language_info": {
   "codemirror_mode": {
    "name": "ipython",
    "version": 3
   },
   "file_extension": ".py",
   "mimetype": "text/x-python",
   "name": "python",
   "nbconvert_exporter": "python",
   "pygments_lexer": "ipython3",
   "version": "3.7.3"
  }
 },
 "nbformat": 4,
 "nbformat_minor": 2
}
